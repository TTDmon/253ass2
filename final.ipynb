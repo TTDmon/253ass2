{
 "cells": [
  {
   "cell_type": "markdown",
   "metadata": {},
   "source": [
    "## Data preparation"
   ]
  },
  {
   "cell_type": "code",
   "execution_count": 6,
   "metadata": {},
   "outputs": [],
   "source": [
    "import os\n",
    "import torch\n",
    "import miditoolkit\n",
    "from tqdm import tqdm\n",
    "from pathlib import Path\n",
    "from torch.utils.data import Dataset\n",
    "import numpy as np\n",
    "import random\n",
    "\n",
    "from torch import optim\n",
    "import torch.nn as nn\n",
    "import math\n",
    "from torch.utils.data import DataLoader"
   ]
  },
  {
   "cell_type": "code",
   "execution_count": 7,
   "metadata": {},
   "outputs": [],
   "source": [
    "# --- Transpose chord label ---\n",
    "def transpose_chord_label(chord, shift):\n",
    "    import music21\n",
    "    try:\n",
    "        root, kind = chord.split(':')\n",
    "        symbol = music21.harmony.ChordSymbol(root)\n",
    "        transposed = symbol.transpose(shift)\n",
    "        return f\"{transposed.root().name}:{kind}\"\n",
    "    except:\n",
    "        return chord\n",
    "\n",
    "# --- Extract melody and chord with transposition ---\n",
    "def process_song(folder, sequence_length=32, transpose_range=range(-3, 4)):\n",
    "    song_id = os.path.basename(folder)\n",
    "    midi_path = os.path.join(folder, f\"{song_id}.mid\")\n",
    "    chord_path = os.path.join(folder, \"chord_midi.txt\")\n",
    "\n",
    "    if not os.path.exists(midi_path) or not os.path.exists(chord_path):\n",
    "        return [], [], []\n",
    "\n",
    "    midi = miditoolkit.MidiFile(midi_path)\n",
    "    ticks_per_beat = midi.ticks_per_beat\n",
    "    melody_track = next((inst for inst in midi.instruments if not inst.is_drum), None)\n",
    "    if melody_track is None or len(melody_track.notes) == 0:\n",
    "        return [], [], []\n",
    "\n",
    "    melody_track.notes.sort(key=lambda x: x.start)\n",
    "    max_tick = midi.max_tick\n",
    "\n",
    "    # Build base melody by beat\n",
    "    melody_seq = []\n",
    "    for i in range(0, max_tick, ticks_per_beat):\n",
    "        notes = [n.pitch for n in melody_track.notes if i <= n.start < i + ticks_per_beat]\n",
    "        melody_seq.append(notes[0] if notes else 0)\n",
    "\n",
    "    # Load chord sequence\n",
    "    with open(chord_path) as f:\n",
    "        chord_seq = [line.strip() for line in f.readlines()]\n",
    "\n",
    "    min_len = min(len(melody_seq), len(chord_seq))\n",
    "    melody_seq = melody_seq[:min_len]\n",
    "    chord_seq = chord_seq[:min_len]\n",
    "\n",
    "    all_melody, all_chord, chord_vocab = [], [], set()\n",
    "    for shift in transpose_range:\n",
    "        melody_shifted = [(p + shift if p > 0 else 0) for p in melody_seq]\n",
    "        chord_shifted = [transpose_chord_label(c, shift) for c in chord_seq]\n",
    "        chord_vocab.update(chord_shifted)\n",
    "\n",
    "        for i in range(0, min_len - sequence_length + 1, sequence_length):\n",
    "            all_melody.append(torch.tensor(melody_shifted[i:i+sequence_length]))\n",
    "            all_chord.append(chord_shifted[i:i+sequence_length])\n",
    "\n",
    "    return all_melody, all_chord, chord_vocab\n"
   ]
  },
  {
   "cell_type": "code",
   "execution_count": 8,
   "metadata": {},
   "outputs": [
    {
     "name": "stderr",
     "output_type": "stream",
     "text": [
      "100%|██████████| 909/909 [01:12<00:00, 12.48it/s]\n"
     ]
    },
    {
     "name": "stdout",
     "output_type": "stream",
     "text": [
      "\n",
      " Saved 10416 samples to data/processed_transposed_2.pt\n"
     ]
    }
   ],
   "source": [
    "\n",
    "# --- Main loop ---\n",
    "DATASET_DIR = \"data/POP909\"\n",
    "OUTPUT_PATH = \"data/processed_transposed_2.pt\"\n",
    "SEQUENCE_LENGTH = 64\n",
    "\n",
    "melody_samples, chord_samples = [], []\n",
    "chord_vocab = set()\n",
    "\n",
    "for song_id in tqdm(range(1, 910)):\n",
    "    folder = os.path.join(DATASET_DIR, f\"{song_id:03d}\")\n",
    "    melody_seq, chord_seq, vocab = process_song(folder, SEQUENCE_LENGTH)\n",
    "    melody_samples.extend(melody_seq)\n",
    "    chord_samples.extend(chord_seq)\n",
    "    chord_vocab.update(vocab)\n",
    "\n",
    "# Build vocab\n",
    "chord_list = sorted(chord_vocab)\n",
    "chord2idx = {ch: i + 1 for i, ch in enumerate(chord_list)}  # 0 for unknown\n",
    "idx2chord = {i: ch for ch, i in chord2idx.items()}\n",
    "\n",
    "# Encode chords\n",
    "encoded_chords = [\n",
    "    torch.tensor([chord2idx.get(c, 0) for c in seq], dtype=torch.long)\n",
    "    for seq in chord_samples\n",
    "]\n",
    "\n",
    "# Save\n",
    "Path(\"data\").mkdir(parents=True, exist_ok=True)\n",
    "torch.save({\n",
    "    'chord_sequences': torch.stack(encoded_chords),\n",
    "    'melody_sequences': torch.stack(melody_samples),\n",
    "    'chord2idx': chord2idx,\n",
    "    'idx2chord': idx2chord,\n",
    "}, OUTPUT_PATH)\n",
    "\n",
    "print(f\"\\n Saved {len(encoded_chords)} samples to {OUTPUT_PATH}\")\n"
   ]
  },
  {
   "cell_type": "code",
   "execution_count": 9,
   "metadata": {},
   "outputs": [],
   "source": [
    "\n",
    "class ChordMelodyDataset(Dataset):\n",
    "    def __init__(self, data_path, split='train', val_ratio=0.1, seed=42):\n",
    "        data = torch.load(data_path)\n",
    "        self.chords = data['chord_sequences']  # [N, L]\n",
    "        self.melodies = data['melody_sequences']  # [N, L]\n",
    "\n",
    "        assert len(self.chords) == len(self.melodies)\n",
    "\n",
    "        # Set split\n",
    "        N = len(self.chords)\n",
    "        indices = list(range(N))\n",
    "        random.seed(seed)\n",
    "        random.shuffle(indices)\n",
    "\n",
    "        val_size = int(N * val_ratio)\n",
    "        if split == 'train':\n",
    "            split_ids = indices[val_size:]\n",
    "        elif split == 'val':\n",
    "            split_ids = indices[:val_size]\n",
    "        else:\n",
    "            raise ValueError(\"split must be 'train' or 'val'\")\n",
    "\n",
    "        self.chord = self.chords[split_ids]\n",
    "        self.melody = self.melodies[split_ids]\n",
    "\n",
    "    def __len__(self):\n",
    "        return len(self.chord)\n",
    "\n",
    "    def __getitem__(self, idx):\n",
    "        return self.chord[idx], self.melody[idx]\n"
   ]
  },
  {
   "cell_type": "markdown",
   "metadata": {},
   "source": [
    "## Model Architecture"
   ]
  },
  {
   "cell_type": "code",
   "execution_count": 10,
   "metadata": {},
   "outputs": [],
   "source": [
    "\n",
    "class PositionalEncoding(nn.Module):\n",
    "    def __init__(self, d_model, max_len=5000):\n",
    "        super().__init__()\n",
    "        pe = torch.zeros(max_len, d_model)\n",
    "        position = torch.arange(0, max_len).unsqueeze(1).float()\n",
    "        div_term = torch.exp(torch.arange(0, d_model, 2).float() * (-math.log(10000.0) / d_model))\n",
    "        pe[:, 0::2] = torch.sin(position * div_term)\n",
    "        pe[:, 1::2] = torch.cos(position * div_term)\n",
    "        self.register_buffer('pe', pe.unsqueeze(0))  # [1, max_len, d_model]\n",
    "\n",
    "    def forward(self, x):\n",
    "        return x + self.pe[:, :x.size(1)]\n",
    "\n",
    "class ChordMelodyTransformerV2(nn.Module):\n",
    "    def __init__(self, vocab_size=129, chord_vocab_size=128, d_model=256, nhead=8,\n",
    "                 num_encoder_layers=4, num_decoder_layers=6, dim_feedforward=1024, dropout=0.1):\n",
    "        super().__init__()\n",
    "\n",
    "        self.chord_embedding = nn.Embedding(chord_vocab_size, d_model)\n",
    "        self.melody_embedding = nn.Embedding(vocab_size, d_model)  # +1 for EOS\n",
    "        self.pos_encoder = PositionalEncoding(d_model)\n",
    "\n",
    "        encoder_layer = nn.TransformerEncoderLayer(\n",
    "            d_model=d_model, nhead=nhead, dim_feedforward=dim_feedforward,\n",
    "            dropout=dropout, batch_first=True)\n",
    "        self.encoder = nn.TransformerEncoder(encoder_layer, num_layers=num_encoder_layers)\n",
    "\n",
    "        decoder_layer = nn.TransformerDecoderLayer(\n",
    "            d_model=d_model, nhead=nhead, dim_feedforward=dim_feedforward,\n",
    "            dropout=dropout, batch_first=True)\n",
    "        self.decoder = nn.TransformerDecoder(decoder_layer, num_layers=num_decoder_layers)\n",
    "\n",
    "        self.output_layer = nn.Linear(d_model, vocab_size)\n",
    "\n",
    "    def generate_mask(self, size, device):\n",
    "        mask = torch.triu(torch.ones(size, size), diagonal=1).to(device)\n",
    "        mask = mask.masked_fill(mask == 1, float('-inf')).masked_fill(mask == 0, float(0.0))\n",
    "        return mask\n",
    "\n",
    "    def forward(self, chord_seq, melody_input):\n",
    "        # chord_seq: [B, L], melody_input: [B, L]\n",
    "        device = chord_seq.device\n",
    "        chord_emb = self.pos_encoder(self.chord_embedding(chord_seq))\n",
    "        melody_emb = self.pos_encoder(self.melody_embedding(melody_input))\n",
    "\n",
    "        memory = self.encoder(chord_emb)\n",
    "        tgt_mask = self.generate_mask(melody_input.size(1), device)\n",
    "        output = self.decoder(melody_emb, memory, tgt_mask=tgt_mask)\n",
    "\n",
    "        return self.output_layer(output)  # [B, L, vocab_size]\n",
    "\n",
    "    def generate(self, chord_seq, max_length=32, temperature=1.0, start_token=60, eos_token=128):\n",
    "        self.eval()\n",
    "        device = chord_seq.device\n",
    "        memory = self.encoder(self.pos_encoder(self.chord_embedding(chord_seq)))\n",
    "\n",
    "        melody = [start_token]\n",
    "        for _ in range(max_length - 1):\n",
    "            inp = torch.tensor([melody], dtype=torch.long, device=device)\n",
    "            emb = self.pos_encoder(self.melody_embedding(inp))\n",
    "            mask = self.generate_mask(inp.size(1), device)\n",
    "            out = self.decoder(emb, memory, tgt_mask=mask)\n",
    "            logits = self.output_layer(out[:, -1, :]) / temperature\n",
    "            probs = torch.softmax(logits, dim=-1)\n",
    "            next_note = torch.multinomial(probs, 1).item()\n",
    "            if next_note == eos_token:\n",
    "                break\n",
    "            melody.append(next_note)\n",
    "\n",
    "        return melody[1:]  # drop start token\n"
   ]
  },
  {
   "cell_type": "markdown",
   "metadata": {},
   "source": [
    "## Model Training"
   ]
  },
  {
   "cell_type": "code",
   "execution_count": 11,
   "metadata": {},
   "outputs": [],
   "source": [
    "def train():\n",
    "    dataset_path = 'data/processed_transposed_2.pt'\n",
    "    batch_size = 128\n",
    "    num_epochs = 100\n",
    "    lr = 2.5e-4\n",
    "    device = torch.device('cuda' if torch.cuda.is_available() else 'cpu')\n",
    "\n",
    "    # Load dataset\n",
    "    train_data = ChordMelodyDataset(dataset_path, split='train')\n",
    "    val_data = ChordMelodyDataset(dataset_path, split='val')\n",
    "    train_loader = DataLoader(train_data, batch_size=batch_size, shuffle=True)\n",
    "    val_loader = DataLoader(val_data, batch_size=batch_size)\n",
    "\n",
    "    chord_vocab_size = train_data.chord.max().item() + 1\n",
    "    model = ChordMelodyTransformerV2(vocab_size=129, chord_vocab_size=chord_vocab_size).to(device)\n",
    "    optimizer = optim.Adam(model.parameters(), lr=lr)\n",
    "    criterion = nn.CrossEntropyLoss(ignore_index=0)\n",
    "    best_val = float('inf')\n",
    "\n",
    "    for epoch in range(num_epochs):\n",
    "        model.train()\n",
    "        total_loss = 0\n",
    "        for chords, melody in tqdm(train_loader, desc=f\"[Train] Epoch {epoch+1}\"):\n",
    "            chords = chords.to(device)\n",
    "            inp = melody[:, :-1].to(device)\n",
    "            tgt = melody[:, 1:].to(device)\n",
    "            out = model(chords, inp)\n",
    "            loss = criterion(out.view(-1, 129), tgt.reshape(-1))\n",
    "            optimizer.zero_grad()\n",
    "            loss.backward()\n",
    "            optimizer.step()\n",
    "            total_loss += loss.item()\n",
    "\n",
    "        print(f\"Train Loss: {total_loss/len(train_loader):.4f}\")\n",
    "\n",
    "        # Validation\n",
    "        model.eval()\n",
    "        val_loss = 0\n",
    "        with torch.no_grad():\n",
    "            for chords, melody in val_loader:\n",
    "                chords = chords.to(device)\n",
    "                inp = melody[:, :-1].to(device)\n",
    "                tgt = melody[:, 1:].to(device)\n",
    "                out = model(chords, inp)\n",
    "                loss = criterion(out.view(-1, 129), tgt.reshape(-1))\n",
    "                val_loss += loss.item()\n",
    "\n",
    "        avg_val = val_loss / len(val_loader)\n",
    "        print(f\"Val Loss: {avg_val:.4f}\")\n",
    "\n",
    "        if avg_val < best_val:\n",
    "            best_val = avg_val\n",
    "            torch.save(model.state_dict(), 'models/best_model_2.pt')\n",
    "            print(\" Saved best model\")\n",
    "\n"
   ]
  },
  {
   "cell_type": "code",
   "execution_count": 12,
   "metadata": {},
   "outputs": [
    {
     "name": "stderr",
     "output_type": "stream",
     "text": [
      "[Train] Epoch 1: 100%|██████████| 74/74 [00:18<00:00,  4.05it/s]\n"
     ]
    },
    {
     "name": "stdout",
     "output_type": "stream",
     "text": [
      "Train Loss: 2.9903\n",
      "Val Loss: 2.3171\n",
      " Saved best model\n"
     ]
    },
    {
     "name": "stderr",
     "output_type": "stream",
     "text": [
      "[Train] Epoch 2: 100%|██████████| 74/74 [00:17<00:00,  4.13it/s]\n"
     ]
    },
    {
     "name": "stdout",
     "output_type": "stream",
     "text": [
      "Train Loss: 2.2385\n",
      "Val Loss: 2.1843\n",
      " Saved best model\n"
     ]
    },
    {
     "name": "stderr",
     "output_type": "stream",
     "text": [
      "[Train] Epoch 3: 100%|██████████| 74/74 [00:18<00:00,  4.04it/s]\n"
     ]
    },
    {
     "name": "stdout",
     "output_type": "stream",
     "text": [
      "Train Loss: 2.1555\n",
      "Val Loss: 2.1348\n",
      " Saved best model\n"
     ]
    },
    {
     "name": "stderr",
     "output_type": "stream",
     "text": [
      "[Train] Epoch 4: 100%|██████████| 74/74 [00:19<00:00,  3.75it/s]\n"
     ]
    },
    {
     "name": "stdout",
     "output_type": "stream",
     "text": [
      "Train Loss: 2.1252\n",
      "Val Loss: 2.1284\n",
      " Saved best model\n"
     ]
    },
    {
     "name": "stderr",
     "output_type": "stream",
     "text": [
      "[Train] Epoch 5: 100%|██████████| 74/74 [00:21<00:00,  3.52it/s]\n"
     ]
    },
    {
     "name": "stdout",
     "output_type": "stream",
     "text": [
      "Train Loss: 2.0950\n",
      "Val Loss: 2.0836\n",
      " Saved best model\n"
     ]
    },
    {
     "name": "stderr",
     "output_type": "stream",
     "text": [
      "[Train] Epoch 6: 100%|██████████| 74/74 [00:21<00:00,  3.48it/s]\n"
     ]
    },
    {
     "name": "stdout",
     "output_type": "stream",
     "text": [
      "Train Loss: 2.0638\n",
      "Val Loss: 2.0620\n",
      " Saved best model\n"
     ]
    },
    {
     "name": "stderr",
     "output_type": "stream",
     "text": [
      "[Train] Epoch 7: 100%|██████████| 74/74 [00:20<00:00,  3.57it/s]\n"
     ]
    },
    {
     "name": "stdout",
     "output_type": "stream",
     "text": [
      "Train Loss: 2.0447\n",
      "Val Loss: 2.0500\n",
      " Saved best model\n"
     ]
    },
    {
     "name": "stderr",
     "output_type": "stream",
     "text": [
      "[Train] Epoch 8: 100%|██████████| 74/74 [00:20<00:00,  3.64it/s]\n"
     ]
    },
    {
     "name": "stdout",
     "output_type": "stream",
     "text": [
      "Train Loss: 2.0252\n",
      "Val Loss: 2.0362\n",
      " Saved best model\n"
     ]
    },
    {
     "name": "stderr",
     "output_type": "stream",
     "text": [
      "[Train] Epoch 9: 100%|██████████| 74/74 [00:19<00:00,  3.73it/s]\n"
     ]
    },
    {
     "name": "stdout",
     "output_type": "stream",
     "text": [
      "Train Loss: 2.0068\n",
      "Val Loss: 2.0288\n",
      " Saved best model\n"
     ]
    },
    {
     "name": "stderr",
     "output_type": "stream",
     "text": [
      "[Train] Epoch 10: 100%|██████████| 74/74 [00:22<00:00,  3.35it/s]\n"
     ]
    },
    {
     "name": "stdout",
     "output_type": "stream",
     "text": [
      "Train Loss: 1.9810\n",
      "Val Loss: 2.0056\n",
      " Saved best model\n"
     ]
    },
    {
     "name": "stderr",
     "output_type": "stream",
     "text": [
      "[Train] Epoch 11: 100%|██████████| 74/74 [00:20<00:00,  3.58it/s]\n"
     ]
    },
    {
     "name": "stdout",
     "output_type": "stream",
     "text": [
      "Train Loss: 1.9537\n",
      "Val Loss: 1.9840\n",
      " Saved best model\n"
     ]
    },
    {
     "name": "stderr",
     "output_type": "stream",
     "text": [
      "[Train] Epoch 12: 100%|██████████| 74/74 [00:21<00:00,  3.42it/s]\n"
     ]
    },
    {
     "name": "stdout",
     "output_type": "stream",
     "text": [
      "Train Loss: 1.9223\n",
      "Val Loss: 1.9561\n",
      " Saved best model\n"
     ]
    },
    {
     "name": "stderr",
     "output_type": "stream",
     "text": [
      "[Train] Epoch 13: 100%|██████████| 74/74 [00:22<00:00,  3.29it/s]\n"
     ]
    },
    {
     "name": "stdout",
     "output_type": "stream",
     "text": [
      "Train Loss: 1.8908\n",
      "Val Loss: 1.9550\n",
      " Saved best model\n"
     ]
    },
    {
     "name": "stderr",
     "output_type": "stream",
     "text": [
      "[Train] Epoch 14: 100%|██████████| 74/74 [00:23<00:00,  3.21it/s]\n"
     ]
    },
    {
     "name": "stdout",
     "output_type": "stream",
     "text": [
      "Train Loss: 1.8680\n",
      "Val Loss: 1.9177\n",
      " Saved best model\n"
     ]
    },
    {
     "name": "stderr",
     "output_type": "stream",
     "text": [
      "[Train] Epoch 15: 100%|██████████| 74/74 [00:22<00:00,  3.25it/s]\n"
     ]
    },
    {
     "name": "stdout",
     "output_type": "stream",
     "text": [
      "Train Loss: 1.8379\n",
      "Val Loss: 1.9105\n",
      " Saved best model\n"
     ]
    },
    {
     "name": "stderr",
     "output_type": "stream",
     "text": [
      "[Train] Epoch 16: 100%|██████████| 74/74 [00:22<00:00,  3.35it/s]\n"
     ]
    },
    {
     "name": "stdout",
     "output_type": "stream",
     "text": [
      "Train Loss: 1.8051\n",
      "Val Loss: 1.8862\n",
      " Saved best model\n"
     ]
    },
    {
     "name": "stderr",
     "output_type": "stream",
     "text": [
      "[Train] Epoch 17: 100%|██████████| 74/74 [00:23<00:00,  3.14it/s]\n"
     ]
    },
    {
     "name": "stdout",
     "output_type": "stream",
     "text": [
      "Train Loss: 1.7724\n",
      "Val Loss: 1.8467\n",
      " Saved best model\n"
     ]
    },
    {
     "name": "stderr",
     "output_type": "stream",
     "text": [
      "[Train] Epoch 18: 100%|██████████| 74/74 [00:23<00:00,  3.16it/s]\n"
     ]
    },
    {
     "name": "stdout",
     "output_type": "stream",
     "text": [
      "Train Loss: 1.7299\n",
      "Val Loss: 1.8424\n",
      " Saved best model\n"
     ]
    },
    {
     "name": "stderr",
     "output_type": "stream",
     "text": [
      "[Train] Epoch 19: 100%|██████████| 74/74 [00:23<00:00,  3.09it/s]\n"
     ]
    },
    {
     "name": "stdout",
     "output_type": "stream",
     "text": [
      "Train Loss: 1.6802\n",
      "Val Loss: 1.7803\n",
      " Saved best model\n"
     ]
    },
    {
     "name": "stderr",
     "output_type": "stream",
     "text": [
      "[Train] Epoch 20: 100%|██████████| 74/74 [00:23<00:00,  3.21it/s]\n"
     ]
    },
    {
     "name": "stdout",
     "output_type": "stream",
     "text": [
      "Train Loss: 1.6133\n",
      "Val Loss: 1.7381\n",
      " Saved best model\n"
     ]
    },
    {
     "name": "stderr",
     "output_type": "stream",
     "text": [
      "[Train] Epoch 21: 100%|██████████| 74/74 [00:24<00:00,  2.97it/s]\n"
     ]
    },
    {
     "name": "stdout",
     "output_type": "stream",
     "text": [
      "Train Loss: 1.5367\n",
      "Val Loss: 1.6438\n",
      " Saved best model\n"
     ]
    },
    {
     "name": "stderr",
     "output_type": "stream",
     "text": [
      "[Train] Epoch 22: 100%|██████████| 74/74 [00:24<00:00,  3.05it/s]\n"
     ]
    },
    {
     "name": "stdout",
     "output_type": "stream",
     "text": [
      "Train Loss: 1.4400\n",
      "Val Loss: 1.5695\n",
      " Saved best model\n"
     ]
    },
    {
     "name": "stderr",
     "output_type": "stream",
     "text": [
      "[Train] Epoch 23: 100%|██████████| 74/74 [00:23<00:00,  3.11it/s]\n"
     ]
    },
    {
     "name": "stdout",
     "output_type": "stream",
     "text": [
      "Train Loss: 1.3480\n",
      "Val Loss: 1.4573\n",
      " Saved best model\n"
     ]
    },
    {
     "name": "stderr",
     "output_type": "stream",
     "text": [
      "[Train] Epoch 24: 100%|██████████| 74/74 [00:23<00:00,  3.12it/s]\n"
     ]
    },
    {
     "name": "stdout",
     "output_type": "stream",
     "text": [
      "Train Loss: 1.2340\n",
      "Val Loss: 1.3298\n",
      " Saved best model\n"
     ]
    },
    {
     "name": "stderr",
     "output_type": "stream",
     "text": [
      "[Train] Epoch 25: 100%|██████████| 74/74 [00:23<00:00,  3.12it/s]\n"
     ]
    },
    {
     "name": "stdout",
     "output_type": "stream",
     "text": [
      "Train Loss: 1.1193\n",
      "Val Loss: 1.2289\n",
      " Saved best model\n"
     ]
    },
    {
     "name": "stderr",
     "output_type": "stream",
     "text": [
      "[Train] Epoch 26: 100%|██████████| 74/74 [00:24<00:00,  2.96it/s]\n"
     ]
    },
    {
     "name": "stdout",
     "output_type": "stream",
     "text": [
      "Train Loss: 1.0015\n",
      "Val Loss: 1.0920\n",
      " Saved best model\n"
     ]
    },
    {
     "name": "stderr",
     "output_type": "stream",
     "text": [
      "[Train] Epoch 27: 100%|██████████| 74/74 [00:23<00:00,  3.18it/s]\n"
     ]
    },
    {
     "name": "stdout",
     "output_type": "stream",
     "text": [
      "Train Loss: 0.8975\n",
      "Val Loss: 0.9803\n",
      " Saved best model\n"
     ]
    },
    {
     "name": "stderr",
     "output_type": "stream",
     "text": [
      "[Train] Epoch 28: 100%|██████████| 74/74 [00:23<00:00,  3.16it/s]\n"
     ]
    },
    {
     "name": "stdout",
     "output_type": "stream",
     "text": [
      "Train Loss: 0.7935\n",
      "Val Loss: 0.8656\n",
      " Saved best model\n"
     ]
    },
    {
     "name": "stderr",
     "output_type": "stream",
     "text": [
      "[Train] Epoch 29: 100%|██████████| 74/74 [00:22<00:00,  3.25it/s]\n"
     ]
    },
    {
     "name": "stdout",
     "output_type": "stream",
     "text": [
      "Train Loss: 0.7025\n",
      "Val Loss: 0.7672\n",
      " Saved best model\n"
     ]
    },
    {
     "name": "stderr",
     "output_type": "stream",
     "text": [
      "[Train] Epoch 30: 100%|██████████| 74/74 [00:23<00:00,  3.21it/s]\n"
     ]
    },
    {
     "name": "stdout",
     "output_type": "stream",
     "text": [
      "Train Loss: 0.6277\n",
      "Val Loss: 0.6595\n",
      " Saved best model\n"
     ]
    },
    {
     "name": "stderr",
     "output_type": "stream",
     "text": [
      "[Train] Epoch 31: 100%|██████████| 74/74 [00:23<00:00,  3.15it/s]\n"
     ]
    },
    {
     "name": "stdout",
     "output_type": "stream",
     "text": [
      "Train Loss: 0.5513\n",
      "Val Loss: 0.5891\n",
      " Saved best model\n"
     ]
    },
    {
     "name": "stderr",
     "output_type": "stream",
     "text": [
      "[Train] Epoch 32: 100%|██████████| 74/74 [00:23<00:00,  3.11it/s]\n"
     ]
    },
    {
     "name": "stdout",
     "output_type": "stream",
     "text": [
      "Train Loss: 0.4956\n",
      "Val Loss: 0.4977\n",
      " Saved best model\n"
     ]
    },
    {
     "name": "stderr",
     "output_type": "stream",
     "text": [
      "[Train] Epoch 33: 100%|██████████| 74/74 [00:23<00:00,  3.22it/s]\n"
     ]
    },
    {
     "name": "stdout",
     "output_type": "stream",
     "text": [
      "Train Loss: 0.4349\n",
      "Val Loss: 0.4463\n",
      " Saved best model\n"
     ]
    },
    {
     "name": "stderr",
     "output_type": "stream",
     "text": [
      "[Train] Epoch 34: 100%|██████████| 74/74 [00:22<00:00,  3.24it/s]\n"
     ]
    },
    {
     "name": "stdout",
     "output_type": "stream",
     "text": [
      "Train Loss: 0.3946\n",
      "Val Loss: 0.3955\n",
      " Saved best model\n"
     ]
    },
    {
     "name": "stderr",
     "output_type": "stream",
     "text": [
      "[Train] Epoch 35: 100%|██████████| 74/74 [00:22<00:00,  3.26it/s]\n"
     ]
    },
    {
     "name": "stdout",
     "output_type": "stream",
     "text": [
      "Train Loss: 0.3516\n",
      "Val Loss: 0.3574\n",
      " Saved best model\n"
     ]
    },
    {
     "name": "stderr",
     "output_type": "stream",
     "text": [
      "[Train] Epoch 36: 100%|██████████| 74/74 [00:23<00:00,  3.19it/s]\n"
     ]
    },
    {
     "name": "stdout",
     "output_type": "stream",
     "text": [
      "Train Loss: 0.3158\n",
      "Val Loss: 0.3089\n",
      " Saved best model\n"
     ]
    },
    {
     "name": "stderr",
     "output_type": "stream",
     "text": [
      "[Train] Epoch 37: 100%|██████████| 74/74 [00:22<00:00,  3.36it/s]\n"
     ]
    },
    {
     "name": "stdout",
     "output_type": "stream",
     "text": [
      "Train Loss: 0.2894\n",
      "Val Loss: 0.2821\n",
      " Saved best model\n"
     ]
    },
    {
     "name": "stderr",
     "output_type": "stream",
     "text": [
      "[Train] Epoch 38: 100%|██████████| 74/74 [00:23<00:00,  3.14it/s]\n"
     ]
    },
    {
     "name": "stdout",
     "output_type": "stream",
     "text": [
      "Train Loss: 0.2629\n",
      "Val Loss: 0.2498\n",
      " Saved best model\n"
     ]
    },
    {
     "name": "stderr",
     "output_type": "stream",
     "text": [
      "[Train] Epoch 39: 100%|██████████| 74/74 [00:23<00:00,  3.21it/s]\n"
     ]
    },
    {
     "name": "stdout",
     "output_type": "stream",
     "text": [
      "Train Loss: 0.2418\n",
      "Val Loss: 0.2376\n",
      " Saved best model\n"
     ]
    },
    {
     "name": "stderr",
     "output_type": "stream",
     "text": [
      "[Train] Epoch 40: 100%|██████████| 74/74 [00:23<00:00,  3.17it/s]\n"
     ]
    },
    {
     "name": "stdout",
     "output_type": "stream",
     "text": [
      "Train Loss: 0.2264\n",
      "Val Loss: 0.2168\n",
      " Saved best model\n"
     ]
    },
    {
     "name": "stderr",
     "output_type": "stream",
     "text": [
      "[Train] Epoch 41: 100%|██████████| 74/74 [00:24<00:00,  3.00it/s]\n"
     ]
    },
    {
     "name": "stdout",
     "output_type": "stream",
     "text": [
      "Train Loss: 0.2084\n",
      "Val Loss: 0.1921\n",
      " Saved best model\n"
     ]
    },
    {
     "name": "stderr",
     "output_type": "stream",
     "text": [
      "[Train] Epoch 42: 100%|██████████| 74/74 [00:24<00:00,  3.06it/s]\n"
     ]
    },
    {
     "name": "stdout",
     "output_type": "stream",
     "text": [
      "Train Loss: 0.1967\n",
      "Val Loss: 0.1899\n",
      " Saved best model\n"
     ]
    },
    {
     "name": "stderr",
     "output_type": "stream",
     "text": [
      "[Train] Epoch 43: 100%|██████████| 74/74 [00:22<00:00,  3.29it/s]\n"
     ]
    },
    {
     "name": "stdout",
     "output_type": "stream",
     "text": [
      "Train Loss: 0.1841\n",
      "Val Loss: 0.1722\n",
      " Saved best model\n"
     ]
    },
    {
     "name": "stderr",
     "output_type": "stream",
     "text": [
      "[Train] Epoch 44: 100%|██████████| 74/74 [00:20<00:00,  3.60it/s]\n"
     ]
    },
    {
     "name": "stdout",
     "output_type": "stream",
     "text": [
      "Train Loss: 0.1731\n",
      "Val Loss: 0.1590\n",
      " Saved best model\n"
     ]
    },
    {
     "name": "stderr",
     "output_type": "stream",
     "text": [
      "[Train] Epoch 45: 100%|██████████| 74/74 [00:21<00:00,  3.50it/s]\n"
     ]
    },
    {
     "name": "stdout",
     "output_type": "stream",
     "text": [
      "Train Loss: 0.1617\n",
      "Val Loss: 0.1540\n",
      " Saved best model\n"
     ]
    },
    {
     "name": "stderr",
     "output_type": "stream",
     "text": [
      "[Train] Epoch 46: 100%|██████████| 74/74 [00:20<00:00,  3.55it/s]\n"
     ]
    },
    {
     "name": "stdout",
     "output_type": "stream",
     "text": [
      "Train Loss: 0.1552\n",
      "Val Loss: 0.1420\n",
      " Saved best model\n"
     ]
    },
    {
     "name": "stderr",
     "output_type": "stream",
     "text": [
      "[Train] Epoch 47: 100%|██████████| 74/74 [00:21<00:00,  3.44it/s]\n"
     ]
    },
    {
     "name": "stdout",
     "output_type": "stream",
     "text": [
      "Train Loss: 0.1463\n",
      "Val Loss: 0.1374\n",
      " Saved best model\n"
     ]
    },
    {
     "name": "stderr",
     "output_type": "stream",
     "text": [
      "[Train] Epoch 48: 100%|██████████| 74/74 [00:22<00:00,  3.24it/s]\n"
     ]
    },
    {
     "name": "stdout",
     "output_type": "stream",
     "text": [
      "Train Loss: 0.1406\n",
      "Val Loss: 0.1329\n",
      " Saved best model\n"
     ]
    },
    {
     "name": "stderr",
     "output_type": "stream",
     "text": [
      "[Train] Epoch 49: 100%|██████████| 74/74 [00:22<00:00,  3.34it/s]\n"
     ]
    },
    {
     "name": "stdout",
     "output_type": "stream",
     "text": [
      "Train Loss: 0.1333\n",
      "Val Loss: 0.1247\n",
      " Saved best model\n"
     ]
    },
    {
     "name": "stderr",
     "output_type": "stream",
     "text": [
      "[Train] Epoch 50: 100%|██████████| 74/74 [00:21<00:00,  3.38it/s]\n"
     ]
    },
    {
     "name": "stdout",
     "output_type": "stream",
     "text": [
      "Train Loss: 0.1290\n",
      "Val Loss: 0.1240\n",
      " Saved best model\n"
     ]
    },
    {
     "name": "stderr",
     "output_type": "stream",
     "text": [
      "[Train] Epoch 51: 100%|██████████| 74/74 [00:21<00:00,  3.42it/s]\n"
     ]
    },
    {
     "name": "stdout",
     "output_type": "stream",
     "text": [
      "Train Loss: 0.1253\n",
      "Val Loss: 0.1190\n",
      " Saved best model\n"
     ]
    },
    {
     "name": "stderr",
     "output_type": "stream",
     "text": [
      "[Train] Epoch 52: 100%|██████████| 74/74 [00:21<00:00,  3.49it/s]\n"
     ]
    },
    {
     "name": "stdout",
     "output_type": "stream",
     "text": [
      "Train Loss: 0.1225\n",
      "Val Loss: 0.1156\n",
      " Saved best model\n"
     ]
    },
    {
     "name": "stderr",
     "output_type": "stream",
     "text": [
      "[Train] Epoch 53: 100%|██████████| 74/74 [00:21<00:00,  3.39it/s]\n"
     ]
    },
    {
     "name": "stdout",
     "output_type": "stream",
     "text": [
      "Train Loss: 0.1168\n",
      "Val Loss: 0.1108\n",
      " Saved best model\n"
     ]
    },
    {
     "name": "stderr",
     "output_type": "stream",
     "text": [
      "[Train] Epoch 54: 100%|██████████| 74/74 [00:21<00:00,  3.40it/s]\n"
     ]
    },
    {
     "name": "stdout",
     "output_type": "stream",
     "text": [
      "Train Loss: 0.1153\n",
      "Val Loss: 0.1178\n"
     ]
    },
    {
     "name": "stderr",
     "output_type": "stream",
     "text": [
      "[Train] Epoch 55: 100%|██████████| 74/74 [00:21<00:00,  3.48it/s]\n"
     ]
    },
    {
     "name": "stdout",
     "output_type": "stream",
     "text": [
      "Train Loss: 0.1096\n",
      "Val Loss: 0.1096\n",
      " Saved best model\n"
     ]
    },
    {
     "name": "stderr",
     "output_type": "stream",
     "text": [
      "[Train] Epoch 56: 100%|██████████| 74/74 [00:21<00:00,  3.38it/s]\n"
     ]
    },
    {
     "name": "stdout",
     "output_type": "stream",
     "text": [
      "Train Loss: 0.1043\n",
      "Val Loss: 0.1038\n",
      " Saved best model\n"
     ]
    },
    {
     "name": "stderr",
     "output_type": "stream",
     "text": [
      "[Train] Epoch 57: 100%|██████████| 74/74 [00:21<00:00,  3.47it/s]\n"
     ]
    },
    {
     "name": "stdout",
     "output_type": "stream",
     "text": [
      "Train Loss: 0.1042\n",
      "Val Loss: 0.1010\n",
      " Saved best model\n"
     ]
    },
    {
     "name": "stderr",
     "output_type": "stream",
     "text": [
      "[Train] Epoch 58: 100%|██████████| 74/74 [00:21<00:00,  3.47it/s]\n"
     ]
    },
    {
     "name": "stdout",
     "output_type": "stream",
     "text": [
      "Train Loss: 0.1049\n",
      "Val Loss: 0.1022\n"
     ]
    },
    {
     "name": "stderr",
     "output_type": "stream",
     "text": [
      "[Train] Epoch 59: 100%|██████████| 74/74 [00:20<00:00,  3.62it/s]\n"
     ]
    },
    {
     "name": "stdout",
     "output_type": "stream",
     "text": [
      "Train Loss: 0.1030\n",
      "Val Loss: 0.1023\n"
     ]
    },
    {
     "name": "stderr",
     "output_type": "stream",
     "text": [
      "[Train] Epoch 60: 100%|██████████| 74/74 [00:21<00:00,  3.41it/s]\n"
     ]
    },
    {
     "name": "stdout",
     "output_type": "stream",
     "text": [
      "Train Loss: 0.0984\n",
      "Val Loss: 0.0978\n",
      " Saved best model\n"
     ]
    },
    {
     "name": "stderr",
     "output_type": "stream",
     "text": [
      "[Train] Epoch 61: 100%|██████████| 74/74 [00:22<00:00,  3.36it/s]\n"
     ]
    },
    {
     "name": "stdout",
     "output_type": "stream",
     "text": [
      "Train Loss: 0.0956\n",
      "Val Loss: 0.0934\n",
      " Saved best model\n"
     ]
    },
    {
     "name": "stderr",
     "output_type": "stream",
     "text": [
      "[Train] Epoch 62: 100%|██████████| 74/74 [00:21<00:00,  3.44it/s]\n"
     ]
    },
    {
     "name": "stdout",
     "output_type": "stream",
     "text": [
      "Train Loss: 0.0944\n",
      "Val Loss: 0.0948\n"
     ]
    },
    {
     "name": "stderr",
     "output_type": "stream",
     "text": [
      "[Train] Epoch 63: 100%|██████████| 74/74 [00:21<00:00,  3.47it/s]\n"
     ]
    },
    {
     "name": "stdout",
     "output_type": "stream",
     "text": [
      "Train Loss: 0.0937\n",
      "Val Loss: 0.0943\n"
     ]
    },
    {
     "name": "stderr",
     "output_type": "stream",
     "text": [
      "[Train] Epoch 64: 100%|██████████| 74/74 [00:22<00:00,  3.36it/s]\n"
     ]
    },
    {
     "name": "stdout",
     "output_type": "stream",
     "text": [
      "Train Loss: 0.0907\n",
      "Val Loss: 0.0949\n"
     ]
    },
    {
     "name": "stderr",
     "output_type": "stream",
     "text": [
      "[Train] Epoch 65: 100%|██████████| 74/74 [00:21<00:00,  3.43it/s]\n"
     ]
    },
    {
     "name": "stdout",
     "output_type": "stream",
     "text": [
      "Train Loss: 0.0904\n",
      "Val Loss: 0.0932\n",
      " Saved best model\n"
     ]
    },
    {
     "name": "stderr",
     "output_type": "stream",
     "text": [
      "[Train] Epoch 66: 100%|██████████| 74/74 [00:21<00:00,  3.51it/s]\n"
     ]
    },
    {
     "name": "stdout",
     "output_type": "stream",
     "text": [
      "Train Loss: 0.0899\n",
      "Val Loss: 0.0918\n",
      " Saved best model\n"
     ]
    },
    {
     "name": "stderr",
     "output_type": "stream",
     "text": [
      "[Train] Epoch 67: 100%|██████████| 74/74 [00:20<00:00,  3.54it/s]\n"
     ]
    },
    {
     "name": "stdout",
     "output_type": "stream",
     "text": [
      "Train Loss: 0.0879\n",
      "Val Loss: 0.0927\n"
     ]
    },
    {
     "name": "stderr",
     "output_type": "stream",
     "text": [
      "[Train] Epoch 68: 100%|██████████| 74/74 [00:20<00:00,  3.53it/s]\n"
     ]
    },
    {
     "name": "stdout",
     "output_type": "stream",
     "text": [
      "Train Loss: 0.0870\n",
      "Val Loss: 0.0906\n",
      " Saved best model\n"
     ]
    },
    {
     "name": "stderr",
     "output_type": "stream",
     "text": [
      "[Train] Epoch 69: 100%|██████████| 74/74 [00:20<00:00,  3.69it/s]\n"
     ]
    },
    {
     "name": "stdout",
     "output_type": "stream",
     "text": [
      "Train Loss: 0.0858\n",
      "Val Loss: 0.0895\n",
      " Saved best model\n"
     ]
    },
    {
     "name": "stderr",
     "output_type": "stream",
     "text": [
      "[Train] Epoch 70: 100%|██████████| 74/74 [00:20<00:00,  3.55it/s]\n"
     ]
    },
    {
     "name": "stdout",
     "output_type": "stream",
     "text": [
      "Train Loss: 0.0828\n",
      "Val Loss: 0.0887\n",
      " Saved best model\n"
     ]
    },
    {
     "name": "stderr",
     "output_type": "stream",
     "text": [
      "[Train] Epoch 71: 100%|██████████| 74/74 [00:22<00:00,  3.36it/s]\n"
     ]
    },
    {
     "name": "stdout",
     "output_type": "stream",
     "text": [
      "Train Loss: 0.0848\n",
      "Val Loss: 0.0894\n"
     ]
    },
    {
     "name": "stderr",
     "output_type": "stream",
     "text": [
      "[Train] Epoch 72: 100%|██████████| 74/74 [00:21<00:00,  3.44it/s]\n"
     ]
    },
    {
     "name": "stdout",
     "output_type": "stream",
     "text": [
      "Train Loss: 0.0839\n",
      "Val Loss: 0.0925\n"
     ]
    },
    {
     "name": "stderr",
     "output_type": "stream",
     "text": [
      "[Train] Epoch 73: 100%|██████████| 74/74 [00:21<00:00,  3.52it/s]\n"
     ]
    },
    {
     "name": "stdout",
     "output_type": "stream",
     "text": [
      "Train Loss: 0.0819\n",
      "Val Loss: 0.0883\n",
      " Saved best model\n"
     ]
    },
    {
     "name": "stderr",
     "output_type": "stream",
     "text": [
      "[Train] Epoch 74: 100%|██████████| 74/74 [00:21<00:00,  3.45it/s]\n"
     ]
    },
    {
     "name": "stdout",
     "output_type": "stream",
     "text": [
      "Train Loss: 0.0807\n",
      "Val Loss: 0.0861\n",
      " Saved best model\n"
     ]
    },
    {
     "name": "stderr",
     "output_type": "stream",
     "text": [
      "[Train] Epoch 75: 100%|██████████| 74/74 [00:20<00:00,  3.53it/s]\n"
     ]
    },
    {
     "name": "stdout",
     "output_type": "stream",
     "text": [
      "Train Loss: 0.0800\n",
      "Val Loss: 0.0867\n"
     ]
    },
    {
     "name": "stderr",
     "output_type": "stream",
     "text": [
      "[Train] Epoch 76: 100%|██████████| 74/74 [00:22<00:00,  3.32it/s]\n"
     ]
    },
    {
     "name": "stdout",
     "output_type": "stream",
     "text": [
      "Train Loss: 0.0785\n",
      "Val Loss: 0.0880\n"
     ]
    },
    {
     "name": "stderr",
     "output_type": "stream",
     "text": [
      "[Train] Epoch 77: 100%|██████████| 74/74 [00:21<00:00,  3.47it/s]\n"
     ]
    },
    {
     "name": "stdout",
     "output_type": "stream",
     "text": [
      "Train Loss: 0.0787\n",
      "Val Loss: 0.0857\n",
      " Saved best model\n"
     ]
    },
    {
     "name": "stderr",
     "output_type": "stream",
     "text": [
      "[Train] Epoch 78: 100%|██████████| 74/74 [00:21<00:00,  3.48it/s]\n"
     ]
    },
    {
     "name": "stdout",
     "output_type": "stream",
     "text": [
      "Train Loss: 0.0757\n",
      "Val Loss: 0.0848\n",
      " Saved best model\n"
     ]
    },
    {
     "name": "stderr",
     "output_type": "stream",
     "text": [
      "[Train] Epoch 79: 100%|██████████| 74/74 [00:21<00:00,  3.45it/s]\n"
     ]
    },
    {
     "name": "stdout",
     "output_type": "stream",
     "text": [
      "Train Loss: 0.0757\n",
      "Val Loss: 0.0878\n"
     ]
    },
    {
     "name": "stderr",
     "output_type": "stream",
     "text": [
      "[Train] Epoch 80: 100%|██████████| 74/74 [00:21<00:00,  3.38it/s]\n"
     ]
    },
    {
     "name": "stdout",
     "output_type": "stream",
     "text": [
      "Train Loss: 0.0759\n",
      "Val Loss: 0.0870\n"
     ]
    },
    {
     "name": "stderr",
     "output_type": "stream",
     "text": [
      "[Train] Epoch 81: 100%|██████████| 74/74 [00:21<00:00,  3.45it/s]\n"
     ]
    },
    {
     "name": "stdout",
     "output_type": "stream",
     "text": [
      "Train Loss: 0.0768\n",
      "Val Loss: 0.0864\n"
     ]
    },
    {
     "name": "stderr",
     "output_type": "stream",
     "text": [
      "[Train] Epoch 82: 100%|██████████| 74/74 [00:21<00:00,  3.48it/s]\n"
     ]
    },
    {
     "name": "stdout",
     "output_type": "stream",
     "text": [
      "Train Loss: 0.0770\n",
      "Val Loss: 0.0892\n"
     ]
    },
    {
     "name": "stderr",
     "output_type": "stream",
     "text": [
      "[Train] Epoch 83: 100%|██████████| 74/74 [00:21<00:00,  3.41it/s]\n"
     ]
    },
    {
     "name": "stdout",
     "output_type": "stream",
     "text": [
      "Train Loss: 0.0755\n",
      "Val Loss: 0.0895\n"
     ]
    },
    {
     "name": "stderr",
     "output_type": "stream",
     "text": [
      "[Train] Epoch 84: 100%|██████████| 74/74 [00:21<00:00,  3.48it/s]\n"
     ]
    },
    {
     "name": "stdout",
     "output_type": "stream",
     "text": [
      "Train Loss: 0.0729\n",
      "Val Loss: 0.0887\n"
     ]
    },
    {
     "name": "stderr",
     "output_type": "stream",
     "text": [
      "[Train] Epoch 85: 100%|██████████| 74/74 [00:22<00:00,  3.32it/s]\n"
     ]
    },
    {
     "name": "stdout",
     "output_type": "stream",
     "text": [
      "Train Loss: 0.0722\n",
      "Val Loss: 0.0856\n"
     ]
    },
    {
     "name": "stderr",
     "output_type": "stream",
     "text": [
      "[Train] Epoch 86: 100%|██████████| 74/74 [00:21<00:00,  3.52it/s]\n"
     ]
    },
    {
     "name": "stdout",
     "output_type": "stream",
     "text": [
      "Train Loss: 0.0732\n",
      "Val Loss: 0.0874\n"
     ]
    },
    {
     "name": "stderr",
     "output_type": "stream",
     "text": [
      "[Train] Epoch 87: 100%|██████████| 74/74 [00:21<00:00,  3.39it/s]\n"
     ]
    },
    {
     "name": "stdout",
     "output_type": "stream",
     "text": [
      "Train Loss: 0.0755\n",
      "Val Loss: 0.0880\n"
     ]
    },
    {
     "name": "stderr",
     "output_type": "stream",
     "text": [
      "[Train] Epoch 88: 100%|██████████| 74/74 [00:21<00:00,  3.49it/s]\n"
     ]
    },
    {
     "name": "stdout",
     "output_type": "stream",
     "text": [
      "Train Loss: 0.0736\n",
      "Val Loss: 0.0881\n"
     ]
    },
    {
     "name": "stderr",
     "output_type": "stream",
     "text": [
      "[Train] Epoch 89: 100%|██████████| 74/74 [00:21<00:00,  3.50it/s]\n"
     ]
    },
    {
     "name": "stdout",
     "output_type": "stream",
     "text": [
      "Train Loss: 0.0734\n",
      "Val Loss: 0.0880\n"
     ]
    },
    {
     "name": "stderr",
     "output_type": "stream",
     "text": [
      "[Train] Epoch 90: 100%|██████████| 74/74 [00:21<00:00,  3.40it/s]\n"
     ]
    },
    {
     "name": "stdout",
     "output_type": "stream",
     "text": [
      "Train Loss: 0.0735\n",
      "Val Loss: 0.0844\n",
      " Saved best model\n"
     ]
    },
    {
     "name": "stderr",
     "output_type": "stream",
     "text": [
      "[Train] Epoch 91: 100%|██████████| 74/74 [00:21<00:00,  3.38it/s]\n"
     ]
    },
    {
     "name": "stdout",
     "output_type": "stream",
     "text": [
      "Train Loss: 0.0714\n",
      "Val Loss: 0.0860\n"
     ]
    },
    {
     "name": "stderr",
     "output_type": "stream",
     "text": [
      "[Train] Epoch 92: 100%|██████████| 74/74 [00:21<00:00,  3.43it/s]\n"
     ]
    },
    {
     "name": "stdout",
     "output_type": "stream",
     "text": [
      "Train Loss: 0.0713\n",
      "Val Loss: 0.0850\n"
     ]
    },
    {
     "name": "stderr",
     "output_type": "stream",
     "text": [
      "[Train] Epoch 93: 100%|██████████| 74/74 [00:21<00:00,  3.43it/s]\n"
     ]
    },
    {
     "name": "stdout",
     "output_type": "stream",
     "text": [
      "Train Loss: 0.0708\n",
      "Val Loss: 0.0827\n",
      " Saved best model\n"
     ]
    },
    {
     "name": "stderr",
     "output_type": "stream",
     "text": [
      "[Train] Epoch 94: 100%|██████████| 74/74 [00:20<00:00,  3.59it/s]\n"
     ]
    },
    {
     "name": "stdout",
     "output_type": "stream",
     "text": [
      "Train Loss: 0.0724\n",
      "Val Loss: 0.0835\n"
     ]
    },
    {
     "name": "stderr",
     "output_type": "stream",
     "text": [
      "[Train] Epoch 95: 100%|██████████| 74/74 [00:21<00:00,  3.39it/s]\n"
     ]
    },
    {
     "name": "stdout",
     "output_type": "stream",
     "text": [
      "Train Loss: 0.0695\n",
      "Val Loss: 0.0819\n",
      " Saved best model\n"
     ]
    },
    {
     "name": "stderr",
     "output_type": "stream",
     "text": [
      "[Train] Epoch 96: 100%|██████████| 74/74 [00:21<00:00,  3.38it/s]\n"
     ]
    },
    {
     "name": "stdout",
     "output_type": "stream",
     "text": [
      "Train Loss: 0.0686\n",
      "Val Loss: 0.0845\n"
     ]
    },
    {
     "name": "stderr",
     "output_type": "stream",
     "text": [
      "[Train] Epoch 97: 100%|██████████| 74/74 [00:20<00:00,  3.55it/s]\n"
     ]
    },
    {
     "name": "stdout",
     "output_type": "stream",
     "text": [
      "Train Loss: 0.0696\n",
      "Val Loss: 0.0820\n"
     ]
    },
    {
     "name": "stderr",
     "output_type": "stream",
     "text": [
      "[Train] Epoch 98: 100%|██████████| 74/74 [00:20<00:00,  3.54it/s]\n"
     ]
    },
    {
     "name": "stdout",
     "output_type": "stream",
     "text": [
      "Train Loss: 0.0668\n",
      "Val Loss: 0.0848\n"
     ]
    },
    {
     "name": "stderr",
     "output_type": "stream",
     "text": [
      "[Train] Epoch 99: 100%|██████████| 74/74 [00:21<00:00,  3.43it/s]\n"
     ]
    },
    {
     "name": "stdout",
     "output_type": "stream",
     "text": [
      "Train Loss: 0.0689\n",
      "Val Loss: 0.0881\n"
     ]
    },
    {
     "name": "stderr",
     "output_type": "stream",
     "text": [
      "[Train] Epoch 100: 100%|██████████| 74/74 [00:22<00:00,  3.36it/s]\n"
     ]
    },
    {
     "name": "stdout",
     "output_type": "stream",
     "text": [
      "Train Loss: 0.0676\n",
      "Val Loss: 0.0834\n"
     ]
    }
   ],
   "source": [
    "train()"
   ]
  },
  {
   "cell_type": "markdown",
   "metadata": {},
   "source": [
    "## Generate Melody"
   ]
  },
  {
   "cell_type": "code",
   "execution_count": null,
   "metadata": {},
   "outputs": [],
   "source": [
    "\n",
    "\n",
    "def save_melody_only(melody_ids, path, ticks_per_beat=480):\n",
    "    midi = miditoolkit.MidiFile(ticks_per_beat=ticks_per_beat)\n",
    "    inst = miditoolkit.Instrument(program=0, is_drum=False, name=\"Melody\")\n",
    "    for i, pitch in enumerate(melody_ids):\n",
    "        if pitch > 0 and pitch < 128:\n",
    "            inst.notes.append(miditoolkit.Note(velocity=80, pitch=pitch,\n",
    "                                               start=i*ticks_per_beat, end=(i+1)*ticks_per_beat))\n",
    "    midi.instruments.append(inst)\n",
    "    midi.dump(path)\n",
    "    print(f\" Saved melody-only MIDI to {path}\")\n",
    "\n",
    "def save_combined_midi(melody_ids, chord_labels, path, ticks_per_beat=480):\n",
    "    midi = miditoolkit.MidiFile(ticks_per_beat=ticks_per_beat)\n",
    "    inst = miditoolkit.Instrument(program=0, is_drum=False, name=\"Melody\")\n",
    "    for i, pitch in enumerate(melody_ids):\n",
    "        if pitch > 0 and pitch < 128:\n",
    "            inst.notes.append(miditoolkit.Note(velocity=80, pitch=pitch,\n",
    "                                               start=i*ticks_per_beat, end=(i+1)*ticks_per_beat))\n",
    "    midi.instruments.append(inst)\n",
    "\n",
    "    # Chord as markers\n",
    "    for i, chord in enumerate(chord_labels):\n",
    "        midi.markers.append(miditoolkit.Marker(text=chord, time=i*ticks_per_beat))\n",
    "\n",
    "    midi.dump(path)\n",
    "    print(f\"Saved combined chord+melody MIDI to {path}\")\n",
    "\n",
    "def generate(chords, \n",
    "             model_path='models/best_model_2.pt',\n",
    "             data_path='data/processed_transposed_2.pt', \n",
    "             output='output/melody.mid',\n",
    "             max_length=64,\n",
    "             temperature=1.2,\n",
    "             start_pitch=60,\n",
    "             combine=False):\n",
    "\n",
    "    \n",
    "    device = torch.device('cuda' if torch.cuda.is_available() else 'cpu')\n",
    "    # Load vocab\n",
    "    data = torch.load(data_path)\n",
    "    chord2idx = data['chord2idx']\n",
    "    chord_vocab_size = len(chord2idx) + 1\n",
    "\n",
    "    # Map chords\n",
    "    chord_ids = [chord2idx.get(c, 0) for c in chords]\n",
    "    chord_tensor = torch.tensor([chord_ids], dtype=torch.long, device=device)\n",
    "\n",
    "    # Load model\n",
    "    model = ChordMelodyTransformerV2(vocab_size=129, chord_vocab_size=chord_vocab_size)\n",
    "    model.load_state_dict(torch.load(model_path, map_location=device))\n",
    "    model.to(device)\n",
    "    model.eval()\n",
    "\n",
    "    # Generate melody\n",
    "    melody = [start_pitch]\n",
    "    with torch.no_grad():\n",
    "        for _ in range(max_length - 1):\n",
    "            mel_tensor = torch.tensor([melody], dtype=torch.long, device=device)\n",
    "            memory = model.encoder(model.pos_encoder(model.chord_embedding(chord_tensor)))\n",
    "            tgt_emb = model.pos_encoder(model.melody_embedding(mel_tensor))\n",
    "            tgt_mask = model.generate_mask(mel_tensor.size(1), device=device)\n",
    "            out = model.decoder(tgt_emb, memory, tgt_mask=tgt_mask)\n",
    "            logits = model.output_layer(out[:, -1, :]) / temperature\n",
    "            probs = torch.softmax(logits, dim=-1)\n",
    "            next_note = torch.multinomial(probs, 1).item()\n",
    "            if next_note == 128:\n",
    "                break\n",
    "            melody.append(next_note)\n",
    "    melody = melody[1:]  # remove start token\n",
    "\n",
    "    # Save\n",
    "    Path(output).parent.mkdir(exist_ok=True, parents=True)\n",
    "    if combine:\n",
    "        save_combined_midi(melody, chords, output)\n",
    "    else:\n",
    "        save_melody_only(melody, output)\n",
    "    \n",
    "    return melody  "
   ]
  },
  {
   "cell_type": "code",
   "execution_count": null,
   "metadata": {},
   "outputs": [
    {
     "name": "stdout",
     "output_type": "stream",
     "text": [
      " Saved melody-only MIDI to output/melody.mid\n",
      "Saved combined chord+melody MIDI to output/melody.mid\n"
     ]
    }
   ],
   "source": [
    "# basic usage\n",
    "melody = generate(['C:maj', 'F:maj', 'G:maj', 'C:maj'])\n",
    "\n",
    "# with custom parameters\n",
    "melody = generate(\n",
    "    chords=['Am:min', 'F:maj', 'C:maj', 'G:maj'],\n",
    "    max_length=64,\n",
    "    temperature=1.5,\n",
    "    start_pitch=65,\n",
    "    combine=True\n",
    ")\n"
   ]
  },
  {
   "cell_type": "code",
   "execution_count": 17,
   "metadata": {},
   "outputs": [],
   "source": [
    "\n",
    "from IPython.display import Audio, display\n",
    "\n",
    "# Classic Pop Progression - Based on C major with complex harmony\n",
    "pop_progression = [\n",
    "    # Intro (8 bars)\n",
    "    'C:maj', 'Am:min', 'F:maj', 'G:maj',\n",
    "    'C:maj7', 'Am:min7', 'Dm:min7', 'G:7',\n",
    "    \n",
    "    # Verse A - with modal interchange (8 bars)  \n",
    "    'C:maj', 'Am:min', 'F:maj', 'G:maj',\n",
    "    'Em:min', 'Am:min', 'Dm:min7', 'G:7',\n",
    "    \n",
    "    # Verse B - adding secondary dominants (8 bars)\n",
    "    'F:maj', 'C:maj/3', 'Am:min', 'Em:min',\n",
    "    'F:maj', 'G:maj', 'Em:min7', 'Am:min',\n",
    "    \n",
    "    # Outro - return to tonic (8 bars)\n",
    "    'F:maj', 'G:maj', 'C:maj', 'Am:min',\n",
    "    'F:maj', 'G:maj', 'C:maj', 'C:maj'\n",
    "]\n",
    "\n",
    "# Jazz Style - Complex ii-V-I progressions\n",
    "jazz_progression = [\n",
    "    # Classic ii-V-I in different keys (8 bars)\n",
    "    'Dm:min7', 'G:7', 'C:maj7', 'C:maj7',\n",
    "    'Am:min7', 'D:7', 'G:maj7', 'G:maj7',\n",
    "    \n",
    "    # Adding substitute chords and modal interchange (8 bars)\n",
    "    'Em:min7', 'A:7', 'Dm:min7', 'G:7',\n",
    "    'C:maj7', 'A:7', 'Dm:min7', 'G:7',\n",
    "    \n",
    "    # Turnaround chord progression (8 bars)\n",
    "    'C:maj7', 'Am:min7', 'Dm:min7', 'G:7',\n",
    "    'Em:min7', 'Eb:dim7', 'Dm:min7', 'G:7',\n",
    "    \n",
    "    # Ending (8 bars)\n",
    "    'C:maj7', 'F:maj7', 'Em:min7', 'Am:min7',\n",
    "    'Dm:min7', 'G:7', 'C:maj7', 'C:maj7'\n",
    "]\n",
    "\n",
    "# Rock Style - Power chords and open chords\n",
    "rock_progression = [\n",
    "    # Classic rock progression (8 bars)\n",
    "    'C:5', 'F:5', 'G:5', 'C:5',\n",
    "    'Am:min', 'F:maj', 'C:maj', 'G:maj',\n",
    "    \n",
    "    # Minor tonality (8 bars)\n",
    "    'Am:min', 'F:maj', 'C:maj', 'G:maj',\n",
    "    'Am:min', 'Dm:min', 'G:maj', 'C:maj',\n",
    "    \n",
    "    # Power section (8 bars)\n",
    "    'F:maj', 'G:maj', 'Am:min', 'Am:min',\n",
    "    'F:maj', 'G:maj', 'C:maj', 'C:maj',\n",
    "    \n",
    "    # Strong ending (8 bars)\n",
    "    'C:5', 'G:5', 'Am:min', 'F:maj',\n",
    "    'C:5', 'G:5', 'C:5', 'C:5'\n",
    "]\n",
    "\n",
    "# Classical Style - Based on functional harmony\n",
    "classical_progression = [\n",
    "    # Theme presentation (8 bars)\n",
    "    'C:maj', 'G:maj/3', 'Am:min', 'Em:min/3',\n",
    "    'F:maj', 'C:maj/5', 'G:7', 'C:maj',\n",
    "    \n",
    "    # Development - modulation to dominant (8 bars)\n",
    "    'G:maj', 'D:maj/3', 'Em:min', 'Bm:min/3',\n",
    "    'C:maj', 'G:maj/5', 'D:7', 'G:maj',\n",
    "    \n",
    "    # Recapitulation - return to tonic (8 bars)\n",
    "    'C:maj', 'Am:min', 'Dm:min', 'G:7',\n",
    "    'Em:min', 'Am:min', 'Dm:min', 'G:7',\n",
    "    \n",
    "    # Coda (8 bars)\n",
    "    'C:maj', 'F:maj', 'C:maj/5', 'G:7',\n",
    "    'C:maj', 'F:maj', 'G:7', 'C:maj'\n",
    "]\n",
    "\n",
    "# Modern Pop - Complex harmony and borrowed chords\n",
    "modern_pop_progression = [\n",
    "    # Modern colors (8 bars)\n",
    "    'C:maj9', 'Am:min11', 'F:maj7', 'G:sus4',\n",
    "    'Em:min7', 'Am:min7', 'Dm:min9', 'G:7',\n",
    "    \n",
    "    # Modal interchange and borrowed chords (8 bars)\n",
    "    'C:maj', 'Ab:maj', 'F:maj', 'G:maj',\n",
    "    'Am:min', 'Fm:min', 'C:maj', 'G:maj',\n",
    "    \n",
    "    # Emotional climax (8 bars)\n",
    "    'F:maj', 'Am:min', 'G:maj', 'Em:min',\n",
    "    'F:maj', 'Am:min', 'G:sus4', 'G:maj',\n",
    "    \n",
    "    # Fadeout ending (8 bars)\n",
    "    'C:maj', 'Am:min', 'F:maj', 'G:maj',\n",
    "    'C:maj', 'F:maj', 'C:maj', 'C:maj'\n",
    "]\n",
    "\n",
    "# Neo-Soul Style - Complex extended chords\n",
    "neo_soul_progression = [\n",
    "    # Complex harmony (8 bars)\n",
    "    'C:maj7', 'Am:min9', 'Dm:min11', 'G:13',\n",
    "    'Em:min7', 'A:7', 'Dm:min7', 'G:7',\n",
    "    \n",
    "    # Color chords (8 bars)\n",
    "    'C:maj9', 'F:maj7', 'Bb:maj7', 'Am:min7',\n",
    "    'Dm:min9', 'G:13', 'Em:min7', 'Am:min7',\n",
    "    \n",
    "    # Groove section (8 bars)\n",
    "    'F:maj9', 'Em:min7', 'Am:min9', 'Dm:min7',\n",
    "    'G:13', 'C:maj7', 'Am:min9', 'Dm:min7',\n",
    "    \n",
    "    # Ending (8 bars)\n",
    "    'G:13', 'C:maj7', 'Am:min9', 'F:maj9',\n",
    "    'Em:min7', 'Am:min7', 'Dm:min7', 'C:maj7'\n",
    "]\n"
   ]
  },
  {
   "cell_type": "code",
   "execution_count": 22,
   "metadata": {},
   "outputs": [
    {
     "name": "stdout",
     "output_type": "stream",
     "text": [
      "=== Classic Pop Style ===\n",
      " Saved melody-only MIDI to output/pop_melody.mid\n"
     ]
    }
   ],
   "source": [
    "print(\"=== Classic Pop Style ===\")\n",
    "melody1 = generate(chords=pop_progression, output=\"output/pop_melody.mid\", max_length=32)"
   ]
  },
  {
   "cell_type": "code",
   "execution_count": 20,
   "metadata": {},
   "outputs": [
    {
     "name": "stdout",
     "output_type": "stream",
     "text": [
      "\n",
      "=== Jazz Style ===\n",
      " Saved melody-only MIDI to output/jazz_melody.mid\n"
     ]
    }
   ],
   "source": [
    "print(\"\\n=== Jazz Style ===\")\n",
    "melody2 = generate(chords=jazz_progression, output=\"output/jazz_melody.mid\", max_length=32, temperature=1.3)"
   ]
  },
  {
   "cell_type": "code",
   "execution_count": 21,
   "metadata": {},
   "outputs": [
    {
     "name": "stdout",
     "output_type": "stream",
     "text": [
      "\n",
      "=== Rock Style ===\n",
      " Saved melody-only MIDI to output/rock_melody.mid\n"
     ]
    }
   ],
   "source": [
    "print(\"\\n=== Rock Style ===\")\n",
    "melody3 = generate(chords=rock_progression, output=\"output/rock_melody.mid\", max_length=32, temperature=1.1)"
   ]
  },
  {
   "cell_type": "code",
   "execution_count": 23,
   "metadata": {},
   "outputs": [
    {
     "name": "stdout",
     "output_type": "stream",
     "text": [
      "\n",
      "=== Classical Style ===\n",
      " Saved melody-only MIDI to output/classical_melody.mid\n"
     ]
    }
   ],
   "source": [
    "print(\"\\n=== Classical Style ===\")\n",
    "melody4 = generate(chords=classical_progression, output=\"output/classical_melody.mid\", max_length=32, temperature=0.9)"
   ]
  },
  {
   "cell_type": "code",
   "execution_count": 24,
   "metadata": {},
   "outputs": [
    {
     "name": "stdout",
     "output_type": "stream",
     "text": [
      "\n",
      "=== Modern Pop Style ===\n",
      " Saved melody-only MIDI to output/modern_melody.mid\n"
     ]
    }
   ],
   "source": [
    "print(\"\\n=== Modern Pop Style ===\")\n",
    "melody5 = generate(chords=modern_pop_progression, output=\"output/modern_melody.mid\", max_length=32, temperature=1.4)"
   ]
  },
  {
   "cell_type": "code",
   "execution_count": null,
   "metadata": {},
   "outputs": [
    {
     "name": "stdout",
     "output_type": "stream",
     "text": [
      "\n",
      "=== Neo-Soul Style ===\n",
      " Saved melody-only MIDI to output/neo_soul_melody.mid\n"
     ]
    }
   ],
   "source": [
    "print(\"\\n=== Neo-Soul Style ===\")\n",
    "melody6 = generate(chords=neo_soul_progression, output=\"output/neo_soul_melody.mid\", max_length=32, temperature=1.2)"
   ]
  },
  {
   "cell_type": "code",
   "execution_count": 27,
   "metadata": {},
   "outputs": [
    {
     "name": "stdout",
     "output_type": "stream",
     "text": [
      "\n",
      "=== Quick Test ===\n",
      " Saved melody-only MIDI to output/test_melody.mid\n"
     ]
    },
    {
     "data": {
      "text/html": [
       "\n",
       "                <audio  controls=\"controls\" >\n",
       "                    <source src=\"data:audio/midi;base64,TVRoZAAAAAYAAQACAeBNVHJrAAAAEwD/UQMHoSAA/1gEBAIYCAH/LwBNVHJrAAABKAD/AwZNZWxvZHkAwAAAkDxQg2CAPFAAkDpQg2CAOlAAkDxQg2CAPFAAkDpQg2CAOlAAkDpQg2CAOlAAkDVQg2CANVAAkDpQg2CAOlAAkDpQg2CAOlAAkDpQg2CAOlAAkDpQg2CAOlAAkDpQg2CAOlAAkDpQg2CAOlAAkDpQg2CAOlAAkDpQg2CAOlAAkDVQg2CANVAAkDpQg2CAOlAAkDpQg2CAOlAAkDVQg2CANVAAkDpQg2CAOlAAkDxQg2CAPFAAkDpQg2CAOlAAkDpQg2CAOlAAkDpQg2CAOlAAkDpQg2CAOlAAkDpQg2CAOlAAkDVQg2CANVAAkDpQg2CAOlAAkDxQg2CAPFAAkDpQg2CAOlAAkDpQg2CAOlAAkDVQg2CANVAB/y8A\" type=\"audio/midi\" />\n",
       "                    Your browser does not support the audio element.\n",
       "                </audio>\n",
       "              "
      ],
      "text/plain": [
       "<IPython.lib.display.Audio object>"
      ]
     },
     "metadata": {},
     "output_type": "display_data"
    }
   ],
   "source": [
    "# Quick test with simple progression\n",
    "print(\"\\n=== Quick Test ===\")\n",
    "simple_chords = ['C:maj', 'F:maj', 'G:maj', 'Am:min'] * 8\n",
    "test_melody = generate(chords=simple_chords, output=\"output/test_melody.mid\", max_length=32)\n",
    "display(Audio(\"output/test_melody.mid\"))"
   ]
  },
  {
   "cell_type": "code",
   "execution_count": 28,
   "metadata": {},
   "outputs": [
    {
     "name": "stdout",
     "output_type": "stream",
     "text": [
      "\n",
      "Generated melodies with lengths: [31, 31, 31, 31, 31, 31, 31]\n"
     ]
    }
   ],
   "source": [
    "\n",
    "print(f\"\\nGenerated melodies with lengths: {[len(m) for m in [melody1, melody2, melody3, melody4, melody5, melody6, test_melody]]}\") "
   ]
  }
 ],
 "metadata": {
  "kernelspec": {
   "display_name": "cse253",
   "language": "python",
   "name": "python3"
  },
  "language_info": {
   "codemirror_mode": {
    "name": "ipython",
    "version": 3
   },
   "file_extension": ".py",
   "mimetype": "text/x-python",
   "name": "python",
   "nbconvert_exporter": "python",
   "pygments_lexer": "ipython3",
   "version": "3.10.16"
  }
 },
 "nbformat": 4,
 "nbformat_minor": 2
}
